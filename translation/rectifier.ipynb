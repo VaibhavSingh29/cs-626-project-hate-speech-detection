{
 "cells": [
  {
   "cell_type": "code",
   "execution_count": 6,
   "metadata": {},
   "outputs": [],
   "source": [
    "import pickle\n",
    "import pandas as pd"
   ]
  },
  {
   "cell_type": "code",
   "execution_count": 12,
   "metadata": {},
   "outputs": [],
   "source": [
    "en_val = pickle.load(open('../data/en_validation.p', 'rb'))\n",
    "en_test = pickle.load(open('../data/en_test.p', 'rb'))"
   ]
  },
  {
   "cell_type": "code",
   "execution_count": 26,
   "metadata": {},
   "outputs": [],
   "source": [
    "err_hi_val = pickle.load(open('../data/hi_validation.p', 'rb'))\n",
    "err_hi_test = pickle.load(open('../data/hi_test.p', 'rb'))"
   ]
  },
  {
   "cell_type": "code",
   "execution_count": 39,
   "metadata": {},
   "outputs": [
    {
     "ename": "AttributeError",
     "evalue": "'list' object has no attribute 'tolist'",
     "output_type": "error",
     "traceback": [
      "\u001b[1;31m---------------------------------------------------------------------------\u001b[0m",
      "\u001b[1;31mAttributeError\u001b[0m                            Traceback (most recent call last)",
      "\u001b[1;32mc:\\Users\\dange\\Desktop\\cs-626-project-hate-speech-detection\\translation\\rectifier.ipynb Cell 4\u001b[0m in \u001b[0;36m<cell line: 4>\u001b[1;34m()\u001b[0m\n\u001b[0;32m      <a href='vscode-notebook-cell:/c%3A/Users/dange/Desktop/cs-626-project-hate-speech-detection/translation/rectifier.ipynb#X22sZmlsZQ%3D%3D?line=0'>1</a>\u001b[0m err_hi_val[\u001b[39m'\u001b[39m\u001b[39mclass\u001b[39m\u001b[39m'\u001b[39m] \u001b[39m=\u001b[39m \u001b[39mlist\u001b[39m(err_hi_val[\u001b[39m'\u001b[39m\u001b[39mclass\u001b[39m\u001b[39m'\u001b[39m])\n\u001b[0;32m      <a href='vscode-notebook-cell:/c%3A/Users/dange/Desktop/cs-626-project-hate-speech-detection/translation/rectifier.ipynb#X22sZmlsZQ%3D%3D?line=1'>2</a>\u001b[0m err_hi_test[\u001b[39m'\u001b[39m\u001b[39mclass\u001b[39m\u001b[39m'\u001b[39m] \u001b[39m=\u001b[39m \u001b[39mlist\u001b[39m(err_hi_test[\u001b[39m'\u001b[39m\u001b[39mclass\u001b[39m\u001b[39m'\u001b[39m])\n\u001b[1;32m----> <a href='vscode-notebook-cell:/c%3A/Users/dange/Desktop/cs-626-project-hate-speech-detection/translation/rectifier.ipynb#X22sZmlsZQ%3D%3D?line=3'>4</a>\u001b[0m err_hi_val[\u001b[39m'\u001b[39m\u001b[39mindex\u001b[39m\u001b[39m'\u001b[39m] \u001b[39m=\u001b[39m err_hi_val[\u001b[39m'\u001b[39;49m\u001b[39mindex\u001b[39;49m\u001b[39m'\u001b[39;49m]\u001b[39m.\u001b[39;49mtolist()\n\u001b[0;32m      <a href='vscode-notebook-cell:/c%3A/Users/dange/Desktop/cs-626-project-hate-speech-detection/translation/rectifier.ipynb#X22sZmlsZQ%3D%3D?line=4'>5</a>\u001b[0m err_hi_test[\u001b[39m'\u001b[39m\u001b[39mindex\u001b[39m\u001b[39m'\u001b[39m] \u001b[39m=\u001b[39m err_hi_test[\u001b[39m'\u001b[39m\u001b[39mindex\u001b[39m\u001b[39m'\u001b[39m]\u001b[39m.\u001b[39mtolist()\n",
      "\u001b[1;31mAttributeError\u001b[0m: 'list' object has no attribute 'tolist'"
     ]
    }
   ],
   "source": [
    "err_hi_val['class'] = list(err_hi_val['class'])\n",
    "err_hi_test['class'] = list(err_hi_test['class'])\n",
    "\n",
    "err_hi_val['index'] = err_hi_val['index'].tolist()\n",
    "err_hi_test['index'] = err_hi_test['index'].tolist()"
   ]
  },
  {
   "cell_type": "code",
   "execution_count": 13,
   "metadata": {},
   "outputs": [],
   "source": [
    "num_val = sum([593, 781, 548])\n",
    "num_test = sum([594, 782, 548])\n"
   ]
  },
  {
   "cell_type": "code",
   "execution_count": 17,
   "metadata": {},
   "outputs": [],
   "source": [
    "val_idx = list(range(num_val))\n",
    "test_idx = list(range(num_test))"
   ]
  },
  {
   "cell_type": "code",
   "execution_count": 19,
   "metadata": {},
   "outputs": [],
   "source": [
    "en_idxval = en_val['index'].tolist()\n",
    "en_idxtest = en_test['index'].tolist()"
   ]
  },
  {
   "cell_type": "code",
   "execution_count": 22,
   "metadata": {},
   "outputs": [],
   "source": [
    "hi_val_idx = [idx for idx in val_idx if idx not in en_idxval]\n",
    "hi_test_idx = [idx for idx in test_idx if idx not in en_idxtest]"
   ]
  },
  {
   "cell_type": "code",
   "execution_count": 28,
   "metadata": {},
   "outputs": [
    {
     "data": {
      "text/plain": [
       "list"
      ]
     },
     "execution_count": 28,
     "metadata": {},
     "output_type": "execute_result"
    }
   ],
   "source": [
    "err_idx = list(err_hi_val['index'])\n",
    "type(err_idx)"
   ]
  },
  {
   "cell_type": "code",
   "execution_count": 40,
   "metadata": {},
   "outputs": [
    {
     "ename": "TypeError",
     "evalue": "Tensor does not support deleting items",
     "output_type": "error",
     "traceback": [
      "\u001b[1;31m---------------------------------------------------------------------------\u001b[0m",
      "\u001b[1;31mTypeError\u001b[0m                                 Traceback (most recent call last)",
      "\u001b[1;32mc:\\Users\\dange\\Desktop\\cs-626-project-hate-speech-detection\\translation\\rectifier.ipynb Cell 10\u001b[0m in \u001b[0;36m<cell line: 1>\u001b[1;34m()\u001b[0m\n\u001b[0;32m      <a href='vscode-notebook-cell:/c%3A/Users/dange/Desktop/cs-626-project-hate-speech-detection/translation/rectifier.ipynb#X16sZmlsZQ%3D%3D?line=0'>1</a>\u001b[0m \u001b[39mfor\u001b[39;00m idx \u001b[39min\u001b[39;00m err_idx:\n\u001b[0;32m      <a href='vscode-notebook-cell:/c%3A/Users/dange/Desktop/cs-626-project-hate-speech-detection/translation/rectifier.ipynb#X16sZmlsZQ%3D%3D?line=1'>2</a>\u001b[0m     \u001b[39mif\u001b[39;00m idx \u001b[39min\u001b[39;00m en_idxval:\n\u001b[1;32m----> <a href='vscode-notebook-cell:/c%3A/Users/dange/Desktop/cs-626-project-hate-speech-detection/translation/rectifier.ipynb#X16sZmlsZQ%3D%3D?line=2'>3</a>\u001b[0m         rectifier(err_hi_val, idx)\n",
      "\u001b[1;32mc:\\Users\\dange\\Desktop\\cs-626-project-hate-speech-detection\\translation\\rectifier.ipynb Cell 10\u001b[0m in \u001b[0;36mrectifier\u001b[1;34m(err_hi_val, idx)\u001b[0m\n\u001b[0;32m      <a href='vscode-notebook-cell:/c%3A/Users/dange/Desktop/cs-626-project-hate-speech-detection/translation/rectifier.ipynb#X16sZmlsZQ%3D%3D?line=0'>1</a>\u001b[0m \u001b[39mdef\u001b[39;00m \u001b[39mrectifier\u001b[39m(err_hi_val, idx):\n\u001b[0;32m      <a href='vscode-notebook-cell:/c%3A/Users/dange/Desktop/cs-626-project-hate-speech-detection/translation/rectifier.ipynb#X16sZmlsZQ%3D%3D?line=1'>2</a>\u001b[0m     del_idx \u001b[39m=\u001b[39m \u001b[39mlist\u001b[39m(err_hi_val[\u001b[39m'\u001b[39m\u001b[39mindex\u001b[39m\u001b[39m'\u001b[39m])\u001b[39m.\u001b[39mindex(idx)\n\u001b[1;32m----> <a href='vscode-notebook-cell:/c%3A/Users/dange/Desktop/cs-626-project-hate-speech-detection/translation/rectifier.ipynb#X16sZmlsZQ%3D%3D?line=2'>3</a>\u001b[0m     \u001b[39mdel\u001b[39;00m err_hi_val[\u001b[39m'\u001b[39m\u001b[39mlabel\u001b[39m\u001b[39m'\u001b[39m][del_idx]\n\u001b[0;32m      <a href='vscode-notebook-cell:/c%3A/Users/dange/Desktop/cs-626-project-hate-speech-detection/translation/rectifier.ipynb#X16sZmlsZQ%3D%3D?line=3'>4</a>\u001b[0m     \u001b[39mdel\u001b[39;00m err_hi_val[\u001b[39m'\u001b[39m\u001b[39mpost_tokens\u001b[39m\u001b[39m'\u001b[39m][del_idx]\n\u001b[0;32m      <a href='vscode-notebook-cell:/c%3A/Users/dange/Desktop/cs-626-project-hate-speech-detection/translation/rectifier.ipynb#X16sZmlsZQ%3D%3D?line=4'>5</a>\u001b[0m     \u001b[39mdel\u001b[39;00m err_hi_val[\u001b[39m'\u001b[39m\u001b[39mclass\u001b[39m\u001b[39m'\u001b[39m][del_idx]\n",
      "\u001b[1;31mTypeError\u001b[0m: Tensor does not support deleting items"
     ]
    }
   ],
   "source": [
    "for idx in err_idx:\n",
    "    if idx in en_idxval:\n",
    "        rectifier(err_hi_val, idx)\n"
   ]
  },
  {
   "cell_type": "code",
   "execution_count": 8,
   "metadata": {},
   "outputs": [],
   "source": [
    "hidf = pd.read_csv('translated.csv').groupby('type')"
   ]
  },
  {
   "cell_type": "code",
   "execution_count": 9,
   "metadata": {},
   "outputs": [],
   "source": [
    "val_translated = hidf.get_group('validation')"
   ]
  },
  {
   "cell_type": "code",
   "execution_count": 37,
   "metadata": {},
   "outputs": [],
   "source": [
    "def rectifier(err_hi_val, idx):\n",
    "    del_idx = list(err_hi_val['index']).index(idx)\n",
    "    del err_hi_val['label'][del_idx]\n",
    "    del err_hi_val['post_tokens'][del_idx]\n",
    "    del err_hi_val['class'][del_idx]"
   ]
  },
  {
   "cell_type": "code",
   "execution_count": 10,
   "metadata": {},
   "outputs": [
    {
     "data": {
      "text/html": [
       "<div>\n",
       "<style scoped>\n",
       "    .dataframe tbody tr th:only-of-type {\n",
       "        vertical-align: middle;\n",
       "    }\n",
       "\n",
       "    .dataframe tbody tr th {\n",
       "        vertical-align: top;\n",
       "    }\n",
       "\n",
       "    .dataframe thead th {\n",
       "        text-align: right;\n",
       "    }\n",
       "</style>\n",
       "<table border=\"1\" class=\"dataframe\">\n",
       "  <thead>\n",
       "    <tr style=\"text-align: right;\">\n",
       "      <th></th>\n",
       "      <th>Unnamed: 0</th>\n",
       "      <th>sentence</th>\n",
       "      <th>index</th>\n",
       "      <th>words</th>\n",
       "      <th>type</th>\n",
       "      <th>hindi_sentence</th>\n",
       "      <th>hindi_words</th>\n",
       "    </tr>\n",
       "  </thead>\n",
       "  <tbody>\n",
       "    <tr>\n",
       "      <th>1539</th>\n",
       "      <td>1539</td>\n",
       "      <td>&lt;user&gt; &lt;user&gt; almost two years after the elect...</td>\n",
       "      <td>640</td>\n",
       "      <td>NaN</td>\n",
       "      <td>validation</td>\n",
       "      <td>&lt;उपयोगकर्ता&gt; &lt;उपयोगकर्ता&gt; चुनाव के लगभग दो साल...</td>\n",
       "      <td>#VALUE!</td>\n",
       "    </tr>\n",
       "    <tr>\n",
       "      <th>1540</th>\n",
       "      <td>1540</td>\n",
       "      <td>jealous people are special lol like even if yo...</td>\n",
       "      <td>425</td>\n",
       "      <td>NaN</td>\n",
       "      <td>validation</td>\n",
       "      <td>ईर्ष्यालु लोग विशेष योग्य हैं जैसे कि अगर आप उ...</td>\n",
       "      <td>#VALUE!</td>\n",
       "    </tr>\n",
       "    <tr>\n",
       "      <th>1541</th>\n",
       "      <td>1541</td>\n",
       "      <td>it will get the same coverage the black moslem...</td>\n",
       "      <td>1646</td>\n",
       "      <td>NaN</td>\n",
       "      <td>validation</td>\n",
       "      <td>यह एक ही कवरेज मिलेगा कि गेस में गेस के काले म...</td>\n",
       "      <td>#VALUE!</td>\n",
       "    </tr>\n",
       "    <tr>\n",
       "      <th>1542</th>\n",
       "      <td>1542</td>\n",
       "      <td>&lt;user&gt; what has happened to all of u faggots m...</td>\n",
       "      <td>311</td>\n",
       "      <td>NaN</td>\n",
       "      <td>validation</td>\n",
       "      <td>&lt;user&gt; क्या मुझे याद आ रहा है कि मैं एक सप्ताह...</td>\n",
       "      <td>#VALUE!</td>\n",
       "    </tr>\n",
       "    <tr>\n",
       "      <th>1543</th>\n",
       "      <td>1543</td>\n",
       "      <td>&lt;user&gt; no like they retarded 😭</td>\n",
       "      <td>33</td>\n",
       "      <td>retarded</td>\n",
       "      <td>validation</td>\n",
       "      <td>&lt;उपयोगकर्ता&gt; नहीं जैसे वे मंदबुद्धि 😭</td>\n",
       "      <td>मंद</td>\n",
       "    </tr>\n",
       "    <tr>\n",
       "      <th>...</th>\n",
       "      <td>...</td>\n",
       "      <td>...</td>\n",
       "      <td>...</td>\n",
       "      <td>...</td>\n",
       "      <td>...</td>\n",
       "      <td>...</td>\n",
       "      <td>...</td>\n",
       "    </tr>\n",
       "    <tr>\n",
       "      <th>1727</th>\n",
       "      <td>1727</td>\n",
       "      <td>bitches always worrying about me cough cough &lt;...</td>\n",
       "      <td>161</td>\n",
       "      <td>bitches dumb hoe</td>\n",
       "      <td>validation</td>\n",
       "      <td>बिट्स हमेशा मेरे बारे में चिंता करते हैं खांसी...</td>\n",
       "      <td>कुतिया गूंगा हो</td>\n",
       "    </tr>\n",
       "    <tr>\n",
       "      <th>1728</th>\n",
       "      <td>1728</td>\n",
       "      <td>bottom ‏ &lt;user&gt; no dignity respect 4 women aci...</td>\n",
       "      <td>961</td>\n",
       "      <td>no dignity respect 4 women acid attacks rape a...</td>\n",
       "      <td>validation</td>\n",
       "      <td>नीचे &lt;उपयोगकर्ता&gt; कोई गरिमा सम्मान 4 महिला एसि...</td>\n",
       "      <td>कोई गरिमा सम्मान 4 महिला एसिड हमले बलात्कार के...</td>\n",
       "    </tr>\n",
       "    <tr>\n",
       "      <th>1729</th>\n",
       "      <td>1729</td>\n",
       "      <td>i knew i was gay the minute i saw adrienne cha...</td>\n",
       "      <td>375</td>\n",
       "      <td>NaN</td>\n",
       "      <td>validation</td>\n",
       "      <td>मुझे पता था कि मैं उस मिनट समलैंगिक था जब मैंन...</td>\n",
       "      <td>#VALUE!</td>\n",
       "    </tr>\n",
       "    <tr>\n",
       "      <th>1730</th>\n",
       "      <td>1730</td>\n",
       "      <td>of course he is a fraud lol he belongs to a gr...</td>\n",
       "      <td>1898</td>\n",
       "      <td>most of them are jews or mudshark feminists in...</td>\n",
       "      <td>validation</td>\n",
       "      <td>बेशक वह एक धोखाधड़ी योग्य है, वह ई सेलेब्स के ...</td>\n",
       "      <td>उनमें से ज्यादातर यहूदी या मडशार्क नारीवादी हैं</td>\n",
       "    </tr>\n",
       "    <tr>\n",
       "      <th>1731</th>\n",
       "      <td>1731</td>\n",
       "      <td>nigger you sold &lt;number&gt; books all year lol</td>\n",
       "      <td>1890</td>\n",
       "      <td>NaN</td>\n",
       "      <td>validation</td>\n",
       "      <td>निगर आपने &lt;नंबर&gt; पुस्तकें सभी वर्ष लोल बेची</td>\n",
       "      <td>#VALUE!</td>\n",
       "    </tr>\n",
       "  </tbody>\n",
       "</table>\n",
       "<p>193 rows × 7 columns</p>\n",
       "</div>"
      ],
      "text/plain": [
       "      Unnamed: 0                                           sentence  index  \\\n",
       "1539        1539  <user> <user> almost two years after the elect...    640   \n",
       "1540        1540  jealous people are special lol like even if yo...    425   \n",
       "1541        1541  it will get the same coverage the black moslem...   1646   \n",
       "1542        1542  <user> what has happened to all of u faggots m...    311   \n",
       "1543        1543                     <user> no like they retarded 😭     33   \n",
       "...          ...                                                ...    ...   \n",
       "1727        1727  bitches always worrying about me cough cough <...    161   \n",
       "1728        1728  bottom ‏ <user> no dignity respect 4 women aci...    961   \n",
       "1729        1729  i knew i was gay the minute i saw adrienne cha...    375   \n",
       "1730        1730  of course he is a fraud lol he belongs to a gr...   1898   \n",
       "1731        1731        nigger you sold <number> books all year lol   1890   \n",
       "\n",
       "                                                  words        type  \\\n",
       "1539                                                NaN  validation   \n",
       "1540                                                NaN  validation   \n",
       "1541                                                NaN  validation   \n",
       "1542                                                NaN  validation   \n",
       "1543                                           retarded  validation   \n",
       "...                                                 ...         ...   \n",
       "1727                                   bitches dumb hoe  validation   \n",
       "1728  no dignity respect 4 women acid attacks rape a...  validation   \n",
       "1729                                                NaN  validation   \n",
       "1730  most of them are jews or mudshark feminists in...  validation   \n",
       "1731                                                NaN  validation   \n",
       "\n",
       "                                         hindi_sentence  \\\n",
       "1539  <उपयोगकर्ता> <उपयोगकर्ता> चुनाव के लगभग दो साल...   \n",
       "1540  ईर्ष्यालु लोग विशेष योग्य हैं जैसे कि अगर आप उ...   \n",
       "1541  यह एक ही कवरेज मिलेगा कि गेस में गेस के काले म...   \n",
       "1542  <user> क्या मुझे याद आ रहा है कि मैं एक सप्ताह...   \n",
       "1543              <उपयोगकर्ता> नहीं जैसे वे मंदबुद्धि 😭   \n",
       "...                                                 ...   \n",
       "1727  बिट्स हमेशा मेरे बारे में चिंता करते हैं खांसी...   \n",
       "1728  नीचे <उपयोगकर्ता> कोई गरिमा सम्मान 4 महिला एसि...   \n",
       "1729  मुझे पता था कि मैं उस मिनट समलैंगिक था जब मैंन...   \n",
       "1730  बेशक वह एक धोखाधड़ी योग्य है, वह ई सेलेब्स के ...   \n",
       "1731        निगर आपने <नंबर> पुस्तकें सभी वर्ष लोल बेची   \n",
       "\n",
       "                                            hindi_words  \n",
       "1539                                            #VALUE!  \n",
       "1540                                            #VALUE!  \n",
       "1541                                            #VALUE!  \n",
       "1542                                            #VALUE!  \n",
       "1543                                                मंद  \n",
       "...                                                 ...  \n",
       "1727                                    कुतिया गूंगा हो  \n",
       "1728  कोई गरिमा सम्मान 4 महिला एसिड हमले बलात्कार के...  \n",
       "1729                                            #VALUE!  \n",
       "1730    उनमें से ज्यादातर यहूदी या मडशार्क नारीवादी हैं  \n",
       "1731                                            #VALUE!  \n",
       "\n",
       "[193 rows x 7 columns]"
      ]
     },
     "metadata": {},
     "output_type": "display_data"
    }
   ],
   "source": [
    "val_translated"
   ]
  }
 ],
 "metadata": {
  "kernelspec": {
   "display_name": "Python 3.10.5 ('mlenv')",
   "language": "python",
   "name": "python3"
  },
  "language_info": {
   "codemirror_mode": {
    "name": "ipython",
    "version": 3
   },
   "file_extension": ".py",
   "mimetype": "text/x-python",
   "name": "python",
   "nbconvert_exporter": "python",
   "pygments_lexer": "ipython3",
   "version": "3.10.5"
  },
  "orig_nbformat": 4,
  "vscode": {
   "interpreter": {
    "hash": "6c165b169ead51ed7dd867ada967038e7afce51eef97009d1ebd4bca797cfdb6"
   }
  }
 },
 "nbformat": 4,
 "nbformat_minor": 2
}
