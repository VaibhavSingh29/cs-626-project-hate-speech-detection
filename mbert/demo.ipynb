{
 "cells": [
  {
   "cell_type": "code",
   "execution_count": 1,
   "metadata": {},
   "outputs": [
    {
     "name": "stdout",
     "output_type": "stream",
     "text": [
      "GPU: NVIDIA GeForce GTX 1660 Ti\n"
     ]
    }
   ],
   "source": [
    "import pandas\n",
    "from transformers import BertTokenizer\n",
    "import pickle\n",
    "from trainer import Classifier\n",
    "import torch\n",
    "from tqdm.notebook import tqdm\n",
    "import seaborn as sns\n",
    "from sklearn.metrics import confusion_matrix, f1_score\n",
    "import numpy as np\n",
    "import matplotlib.pyplot as plt"
   ]
  },
  {
   "cell_type": "code",
   "execution_count": 2,
   "metadata": {},
   "outputs": [],
   "source": [
    "checkpoint = 'bert-base-multilingual-cased'"
   ]
  },
  {
   "cell_type": "code",
   "execution_count": 3,
   "metadata": {},
   "outputs": [],
   "source": [
    "tokenizer = BertTokenizer.from_pretrained(checkpoint)"
   ]
  },
  {
   "cell_type": "code",
   "execution_count": 4,
   "metadata": {},
   "outputs": [
    {
     "data": {
      "text/plain": [
       "<All keys matched successfully>"
      ]
     },
     "execution_count": 4,
     "metadata": {},
     "output_type": "execute_result"
    }
   ],
   "source": [
    "mbert = Classifier(checkpoint)\n",
    "mbert.load_state_dict(torch.load('../saved_models/bert-base-multilingual-cased-64.94.pt'))"
   ]
  },
  {
   "cell_type": "code",
   "execution_count": 12,
   "metadata": {},
   "outputs": [
    {
     "name": "stdout",
     "output_type": "stream",
     "text": [
      "muslims are good people\n",
      "Hate with probability 0.010\n",
      "Normal with probability 0.872\n",
      "Offensive with probability 0.118\n"
     ]
    }
   ],
   "source": [
    "sentence = input(\"Please enter a sentence\")\n",
    "output = tokenizer.encode_plus(\n",
    "    sentence,\n",
    "        add_special_tokens=True,\n",
    "    max_length=128,\n",
    "    truncation=True,\n",
    "    padding='max_length',\n",
    "    return_attention_mask=True,\n",
    "    return_token_type_ids=False,\n",
    "    return_tensors='pt'\n",
    ")\n",
    "probs = mbert.predict_prob(output['input_ids'], output['attention_mask'])\n",
    "print(sentence)\n",
    "print(f'Hate with probability {probs[0][0]:.3f}\\nNormal with probability {probs[0][1]:.3f}\\nOffensive with probability {probs[0][2]:.3f}')"
   ]
  }
 ],
 "metadata": {
  "kernelspec": {
   "display_name": "Python 3.10.5 ('mlenv')",
   "language": "python",
   "name": "python3"
  },
  "language_info": {
   "codemirror_mode": {
    "name": "ipython",
    "version": 3
   },
   "file_extension": ".py",
   "mimetype": "text/x-python",
   "name": "python",
   "nbconvert_exporter": "python",
   "pygments_lexer": "ipython3",
   "version": "3.10.5"
  },
  "orig_nbformat": 4,
  "vscode": {
   "interpreter": {
    "hash": "6c165b169ead51ed7dd867ada967038e7afce51eef97009d1ebd4bca797cfdb6"
   }
  }
 },
 "nbformat": 4,
 "nbformat_minor": 2
}
