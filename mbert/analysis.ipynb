{
 "cells": [
  {
   "cell_type": "code",
   "execution_count": 48,
   "metadata": {},
   "outputs": [],
   "source": [
    "import pandas\n",
    "from transformers import BertTokenizer\n",
    "import pickle\n",
    "from trainer import Classifier\n",
    "import torch\n",
    "from tqdm.notebook import tqdm\n",
    "import seaborn as sns\n",
    "from sklearn.metrics import confusion_matrix, f1_score\n",
    "import numpy as np\n",
    "import matplotlib.pyplot as plt\n"
   ]
  },
  {
   "cell_type": "code",
   "execution_count": 3,
   "metadata": {},
   "outputs": [],
   "source": [
    "checkpoint = 'bert-base-multilingual-cased'"
   ]
  },
  {
   "cell_type": "code",
   "execution_count": 4,
   "metadata": {},
   "outputs": [],
   "source": [
    "tokenizer = BertTokenizer.from_pretrained(checkpoint)"
   ]
  },
  {
   "cell_type": "code",
   "execution_count": 5,
   "metadata": {},
   "outputs": [],
   "source": [
    "en_test = pickle.load(open('../data/en_test.p', 'rb'))\n",
    "hi_test = pickle.load(open('../data/hi_test.p', 'rb'))"
   ]
  },
  {
   "cell_type": "code",
   "execution_count": 6,
   "metadata": {},
   "outputs": [
    {
     "name": "stdout",
     "output_type": "stream",
     "text": [
      "1562 385\n"
     ]
    }
   ],
   "source": [
    "EN_EXAMPLES = len(en_test['class'])\n",
    "HI_EXAMPLES = len(hi_test['class'])\n",
    "print(EN_EXAMPLES, HI_EXAMPLES)"
   ]
  },
  {
   "cell_type": "code",
   "execution_count": 7,
   "metadata": {},
   "outputs": [
    {
     "data": {
      "text/plain": [
       "<All keys matched successfully>"
      ]
     },
     "execution_count": 7,
     "metadata": {},
     "output_type": "execute_result"
    }
   ],
   "source": [
    "mbert = Classifier(checkpoint)\n",
    "mbert.load_state_dict(torch.load('../saved_models/bert-base-multilingual-cased-64.94.pt'))"
   ]
  },
  {
   "cell_type": "code",
   "execution_count": 8,
   "metadata": {},
   "outputs": [],
   "source": [
    "output = tokenizer.batch_encode_plus(\n",
    "    en_test['post_tokens'],\n",
    "        add_special_tokens=True,\n",
    "    max_length=128,\n",
    "    truncation=True,\n",
    "    padding='max_length',\n",
    "    return_attention_mask=True,\n",
    "    return_token_type_ids=False,\n",
    "    return_tensors='pt'\n",
    ")\n",
    "en_input_ids = output['input_ids']\n",
    "en_attention_mask = output['attention_mask']\n",
    "\n",
    "output = tokenizer.batch_encode_plus(\n",
    "    hi_test['post_tokens'],\n",
    "        add_special_tokens=True,\n",
    "    max_length=128,\n",
    "    truncation=True,\n",
    "    padding='max_length',\n",
    "    return_attention_mask=True,\n",
    "    return_token_type_ids=False,\n",
    "    return_tensors='pt'\n",
    ")\n",
    "hi_input_ids = output['input_ids']\n",
    "hi_attention_mask = output['attention_mask']"
   ]
  },
  {
   "cell_type": "code",
   "execution_count": 41,
   "metadata": {},
   "outputs": [
    {
     "data": {
      "application/vnd.jupyter.widget-view+json": {
       "model_id": "95dd8c313ac144798bb18ad10c62eb1c",
       "version_major": 2,
       "version_minor": 0
      },
      "text/plain": [
       "  0%|          | 0/98 [00:00<?, ?it/s]"
      ]
     },
     "metadata": {},
     "output_type": "display_data"
    }
   ],
   "source": [
    "en_out = []\n",
    "batch = 16\n",
    "for i in tqdm(range(0, EN_EXAMPLES, batch)):\n",
    "    en_prob = mbert.predict_prob(en_input_ids[i:i+batch], en_attention_mask[i:i+batch])\n",
    "    en_out.extend(en_prob)"
   ]
  },
  {
   "cell_type": "code",
   "execution_count": 51,
   "metadata": {},
   "outputs": [],
   "source": [
    "pred = torch.argmax(torch.stack(en_out).to('cpu'), axis=1)\n",
    "conf_matrix = confusion_matrix(en_test['class'], pred)"
   ]
  },
  {
   "cell_type": "code",
   "execution_count": 56,
   "metadata": {},
   "outputs": [],
   "source": [
    "def evaluate(conf_matrix, label, pred):\n",
    "    plt.figure(figsize=(10,8))\n",
    "    categories = [\n",
    "        'hate_speech',\n",
    "        'normal',\n",
    "        'offensive'\n",
    "    ]\n",
    "    sns.heatmap(\n",
    "        conf_matrix/np.sum(conf_matrix, axis=1), \n",
    "        annot=True, \n",
    "        fmt='.2%', \n",
    "        cmap='Blues',\n",
    "        xticklabels=categories,\n",
    "        yticklabels=categories\n",
    "    )\n",
    "\n",
    "    plt.xlabel('predicted label')\n",
    "    plt.ylabel('true label')\n",
    "    plt.show()\n",
    "    print(\"F1 score:- \", f1_score(label, pred, average=\"weighted\"))"
   ]
  },
  {
   "cell_type": "code",
   "execution_count": 57,
   "metadata": {},
   "outputs": [
    {
     "data": {
      "image/png": "[encoded data removed]",
      "text/plain": [
       "<Figure size 720x576 with 2 Axes>"
      ]
     },
     "metadata": {
      "needs_background": "light"
     },
     "output_type": "display_data"
    },
    {
     "name": "stdout",
     "output_type": "stream",
     "text": [
      "F1 score:-  0.6587666328512324\n"
     ]
    }
   ],
   "source": [
    "evaluate(conf_matrix, en_test['class'], pred)"
   ]
  },
  {
   "cell_type": "code",
   "execution_count": 44,
   "metadata": {},
   "outputs": [
    {
     "data": {
      "application/vnd.jupyter.widget-view+json": {
       "model_id": "f2d71b6abdf44b13881c47a378184a63",
       "version_major": 2,
       "version_minor": 0
      },
      "text/plain": [
       "  0%|          | 0/25 [00:00<?, ?it/s]"
      ]
     },
     "metadata": {},
     "output_type": "display_data"
    }
   ],
   "source": [
    "hi_out = []\n",
    "batch = 16\n",
    "for i in tqdm(range(0, HI_EXAMPLES, batch)):\n",
    "    hi_prob = mbert.predict_prob(hi_input_ids[i:i+batch], hi_attention_mask[i:i+batch])\n",
    "    hi_out.extend(hi_prob)"
   ]
  },
  {
   "cell_type": "code",
   "execution_count": 59,
   "metadata": {},
   "outputs": [],
   "source": [
    "pred = torch.argmax(torch.stack(hi_out).to('cpu'), axis=1)\n",
    "conf_matrix = confusion_matrix(hi_test['class'], pred)"
   ]
  },
  {
   "cell_type": "code",
   "execution_count": 60,
   "metadata": {},
   "outputs": [
    {
     "data": {
      "image/png": "[encoded data removed]",
      "text/plain": [
       "<Figure size 720x576 with 2 Axes>"
      ]
     },
     "metadata": {
      "needs_background": "light"
     },
     "output_type": "display_data"
    },
    {
     "name": "stdout",
     "output_type": "stream",
     "text": [
      "F1 score:-  0.7142090958900204\n"
     ]
    }
   ],
   "source": [
    "evaluate(conf_matrix, hi_test['class'], pred)"
   ]
  }
 ],
 "metadata": {
  "kernelspec": {
   "display_name": "Python 3.10.5 ('mlenv')",
   "language": "python",
   "name": "python3"
  },
  "language_info": {
   "codemirror_mode": {
    "name": "ipython",
    "version": 3
   },
   "file_extension": ".py",
   "mimetype": "text/x-python",
   "name": "python",
   "nbconvert_exporter": "python",
   "pygments_lexer": "ipython3",
   "version": "3.10.5"
  },
  "orig_nbformat": 4,
  "vscode": {
   "interpreter": {
    "hash": "6c165b169ead51ed7dd867ada967038e7afce51eef97009d1ebd4bca797cfdb6"
   }
  }
 },
 "nbformat": 4,
 "nbformat_minor": 2
}
